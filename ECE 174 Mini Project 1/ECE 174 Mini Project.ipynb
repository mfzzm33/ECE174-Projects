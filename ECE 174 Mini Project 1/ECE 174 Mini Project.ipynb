{
 "cells": [
  {
   "cell_type": "markdown",
   "id": "04ae9b0f",
   "metadata": {},
   "source": [
    "# ECE 174 Mini Project"
   ]
  },
  {
   "cell_type": "code",
   "execution_count": 13,
   "id": "38a00695",
   "metadata": {},
   "outputs": [],
   "source": [
    "# Import the packages\n",
    "import numpy as np\n",
    "import matplotlib.pyplot as plt\n",
    "import scipy \n",
    "import math\n",
    "import pandas as pd"
   ]
  },
  {
   "cell_type": "code",
   "execution_count": 213,
   "id": "0bd82b34",
   "metadata": {},
   "outputs": [
    {
     "name": "stdout",
     "output_type": "stream",
     "text": [
      "train_X:(60000, 784)\n",
      "train_Y:(1, 60000)\n",
      "test_X:(10000, 784)\n",
      "test_Y:(1, 10000)\n"
     ]
    }
   ],
   "source": [
    "# Import the MNIST dataset\n",
    "data = scipy.io.loadmat('mnist.mat')\n",
    "train_X = data['trainX']\n",
    "train_Y = data['trainY']\n",
    "test_X = data['testX']\n",
    "test_Y = data['testY']\n",
    "\n",
    "print('train_X:' + str(train_X.shape))\n",
    "print('train_Y:' + str(train_Y.shape))\n",
    "print('test_X:' + str(test_X.shape))\n",
    "print('test_Y:' + str(test_Y.shape))"
   ]
  },
  {
   "cell_type": "code",
   "execution_count": 35,
   "id": "7d71697b",
   "metadata": {},
   "outputs": [],
   "source": [
    "# Data transformation: convert the image to float and normalize the value\n",
    "train_X = train_X.astype(float)/255\n",
    "train_Y = train_Y.astype(float)/255\n",
    "test_X = test_X.astype(float)/255\n",
    "test_Y = test_Y.astype(float)/255"
   ]
  },
  {
   "cell_type": "markdown",
   "id": "1c6df184",
   "metadata": {},
   "source": [
    "## Binary Classifier"
   ]
  },
  {
   "cell_type": "code",
   "execution_count": 252,
   "id": "da36b346",
   "metadata": {},
   "outputs": [],
   "source": [
    "# Get the values of the parameters by solving the least square equations\n",
    "def binary_classifier_least_square_solution(X,Y):\n",
    "    ones = np.ones([X.shape[0],1])\n",
    "    X_new = np.hstack((ones,X))\n",
    "    solution = np.linalg.pinv(X_new.T @ X_new)@ X_new.T @ Y.T\n",
    "    \n",
    "    beta = solution[1:]\n",
    "    alpha = solution[0]\n",
    "    return (beta,alpha)"
   ]
  },
  {
   "cell_type": "code",
   "execution_count": 146,
   "id": "55c0b5f6",
   "metadata": {},
   "outputs": [],
   "source": [
    "# Binary least square classifier that return the value of f_hat(x)\n",
    "def binary_classifier(x, beta, alpha):\n",
    "    a = np.dot(beta.T,x) + alpha\n",
    "    if a >= 0:\n",
    "        return 1\n",
    "    return -1"
   ]
  },
  {
   "cell_type": "code",
   "execution_count": 445,
   "id": "0799046f",
   "metadata": {},
   "outputs": [],
   "source": [
    "def confusion_matrix(predicted,actual):\n",
    "    cmatrix = np.zeros((10,10))\n",
    "    for k in range(predicted.shape[0]):\n",
    "        i = predicted[k].astype(int)\n",
    "        j = actual[k].astype(int)\n",
    "        cmatrix[i][j] += 1\n",
    "    return cmatrix.astype(int)"
   ]
  },
  {
   "cell_type": "code",
   "execution_count": 447,
   "id": "4d21536c",
   "metadata": {},
   "outputs": [],
   "source": [
    "def recall_rate(confusion_matrix):\n",
    "    recall_rate = np.zeros(10)\n",
    "    sum = np.sum(confusion_matrix, axis=0)\n",
    "    for i in range(10):\n",
    "        recall_rate[i] = confusion_matrix[i][i] / sum[i]\n",
    "    return recall_rate"
   ]
  },
  {
   "cell_type": "markdown",
   "id": "0fe36622",
   "metadata": {},
   "source": [
    "## One-versus-all Classifier\n",
    "### Implementation"
   ]
  },
  {
   "cell_type": "code",
   "execution_count": 325,
   "id": "167504d6",
   "metadata": {},
   "outputs": [],
   "source": [
    "# Transfrom the original training data to binary for the k-th class\n",
    "def transform_Y(train_Y,k):\n",
    "    transformed_train_Y = np.zeros(train_Y.shape)\n",
    "    for i in range(train_Y.shape[1]):\n",
    "        if train_Y[0,i]==k:\n",
    "            transformed_train_Y[0,i] = 1\n",
    "        else:\n",
    "            transformed_train_Y[0,i] = -1\n",
    "    return transformed_train_Y"
   ]
  },
  {
   "cell_type": "code",
   "execution_count": 318,
   "id": "6af50f37",
   "metadata": {},
   "outputs": [],
   "source": [
    "# Training data to get the values of parameters for the k classes\n",
    "def get_parameters_one_versus_all_classifier(train_X,train_Y,k):\n",
    "    beta = []\n",
    "    alpha = []\n",
    "    for i in range(k):\n",
    "        transformed_train_Y = transform_Y(train_Y,i)\n",
    "        beta_i, alpha_i = binary_classifier_least_square_solution(train_X,transformed_train_Y)\n",
    "        beta.append(beta_i)\n",
    "        alpha.append(alpha_i)\n",
    "    return (beta, alpha)"
   ]
  },
  {
   "cell_type": "code",
   "execution_count": 332,
   "id": "1800e922",
   "metadata": {},
   "outputs": [],
   "source": [
    "# Make predictions of label Y with one-versus-all classifier\n",
    "def one_versus_all_classifier(x, beta, alpha, k):\n",
    "    a = np.zeros(k)\n",
    "    for i in range(k):\n",
    "        a[i] = beta[i].T @ x + alpha[i]\n",
    "    return np.argmax(a)"
   ]
  },
  {
   "cell_type": "code",
   "execution_count": 328,
   "id": "33b56c32",
   "metadata": {},
   "outputs": [],
   "source": [
    "beta, alpha = get_parameters_one_versus_all_classifier(train_X,train_Y,k=10)"
   ]
  },
  {
   "cell_type": "markdown",
   "id": "6285a665",
   "metadata": {},
   "source": [
    "### Evaluation"
   ]
  },
  {
   "cell_type": "code",
   "execution_count": 412,
   "id": "36cd15a1",
   "metadata": {},
   "outputs": [],
   "source": [
    "predictions = np.zeros(test_X.shape[0])\n",
    "for i in range(test_X.shape[0]):\n",
    "    predictions[i] = one_versus_all_classifier(test_X[i], beta, alpha, 10)"
   ]
  },
  {
   "cell_type": "code",
   "execution_count": 413,
   "id": "8ae9f8c2",
   "metadata": {},
   "outputs": [
    {
     "name": "stdout",
     "output_type": "stream",
     "text": [
      "Error Rate: 13.9700%\n"
     ]
    }
   ],
   "source": [
    "# Calculate the error rate of the one-versus-all classifier with the test data\n",
    "err = 0\n",
    "for i in range(test_X.shape[0]):\n",
    "    if predictions[i] != test_Y[0][i]:\n",
    "        err = err + 1\n",
    "error_rate = (err/len(test_X)) * 100\n",
    "print(\"Error Rate: \" + f\"{error_rate:.4f}\" + \"%\")"
   ]
  },
  {
   "cell_type": "code",
   "execution_count": 451,
   "id": "fdda93d7",
   "metadata": {},
   "outputs": [
    {
     "data": {
      "text/plain": [
       "array([[ 944,    0,   18,    4,    0,   23,   18,    5,   14,   15],\n",
       "       [   0, 1107,   54,   17,   22,   18,   10,   40,   46,   11],\n",
       "       [   1,    2,  813,   23,    6,    3,    9,   16,   11,    2],\n",
       "       [   2,    2,   26,  880,    1,   72,    0,    6,   30,   17],\n",
       "       [   2,    3,   15,    5,  881,   24,   22,   26,   27,   80],\n",
       "       [   7,    1,    0,   17,    5,  659,   17,    0,   40,    1],\n",
       "       [  14,    5,   42,    9,   10,   23,  875,    1,   15,    1],\n",
       "       [   2,    1,   22,   21,    2,   14,    0,  884,   12,   77],\n",
       "       [   7,   14,   37,   22,   11,   39,    7,    0,  759,    4],\n",
       "       [   1,    0,    5,   12,   44,   17,    0,   50,   20,  801]])"
      ]
     },
     "execution_count": 451,
     "metadata": {},
     "output_type": "execute_result"
    }
   ],
   "source": [
    "# confusion matrix for one-versus-all classifier\n",
    "one_versus_all_cmatrix = confusion_matrix(predictions,test_Y[0])\n",
    "one_versus_all_cmatrix"
   ]
  },
  {
   "cell_type": "code",
   "execution_count": 27,
   "id": "e4fc6661",
   "metadata": {},
   "outputs": [
    {
     "data": {
      "image/png": "[encoded data removed]",
      "text/plain": [
       "<Figure size 1000x400 with 2 Axes>"
      ]
     },
     "metadata": {},
     "output_type": "display_data"
    }
   ],
   "source": [
    "# https://stackoverflow.com/questions/16492830/colorplot-of-2d-array-matplotlib\n",
    "H = np.array([[ 944,    0,   18,    4,    0,   23,   18,    5,   14,   15],\n",
    "       [   0, 1107,   54,   17,   22,   18,   10,   40,   46,   11],\n",
    "       [   1,    2,  813,   23,    6,    3,    9,   16,   11,    2],\n",
    "       [   2,    2,   26,  880,    1,   72,    0,    6,   30,   17],\n",
    "       [   2,    3,   15,    5,  881,   24,   22,   26,   27,   80],\n",
    "       [   7,    1,    0,   17,    5,  659,   17,    0,   40,    1],\n",
    "       [  14,    5,   42,    9,   10,   23,  875,    1,   15,    1],\n",
    "       [   2,    1,   22,   21,    2,   14,    0,  884,   12,   77],\n",
    "       [   7,   14,   37,   22,   11,   39,    7,    0,  759,    4],\n",
    "       [   1,    0,    5,   12,   44,   17,    0,   50,   20,  801]])  \n",
    "\n",
    "fig, ax = plt.subplots(figsize=(10,4))\n",
    "\n",
    "cax = ax.matshow(H, cmap='viridis')\n",
    "fig.colorbar(cax)\n",
    "\n",
    "ax.set_xlabel('Actual')\n",
    "ax.set_ylabel('Predicted')\n",
    "\n",
    "for (i, j), val in np.ndenumerate(H):\n",
    "    ax.text(j, i, val, ha='center', va='center')\n",
    "\n",
    "plt.show()"
   ]
  },
  {
   "cell_type": "code",
   "execution_count": 452,
   "id": "ffbd6f4d",
   "metadata": {},
   "outputs": [
    {
     "data": {
      "text/plain": [
       "array([0.96326531, 0.9753304 , 0.7877907 , 0.87128713, 0.89714868,\n",
       "       0.73878924, 0.91336117, 0.85992218, 0.77926078, 0.7938553 ])"
      ]
     },
     "execution_count": 452,
     "metadata": {},
     "output_type": "execute_result"
    }
   ],
   "source": [
    "# Recall rate of the one-versus-all classifier\n",
    "recall_rate(one_versus_all_cmatrix)"
   ]
  },
  {
   "cell_type": "code",
   "execution_count": 26,
   "id": "a7fdf08a",
   "metadata": {},
   "outputs": [
    {
     "name": "stdout",
     "output_type": "stream",
     "text": [
      "           0      1      2      3      4      5      6     7      8      9\n",
      "Digit                                                                     \n",
      "Rate   0.963  0.975  0.788  0.871  0.897  0.739  0.913  0.86  0.779  0.794\n"
     ]
    }
   ],
   "source": [
    "data = np.array([0.96326531, 0.9753304 , 0.7877907 , 0.87128713, 0.89714868,\n",
    "                 0.73878924, 0.91336117, 0.85992218, 0.77926078, 0.7938553 ])\n",
    "\n",
    "data = np.round(data, 3)\n",
    "\n",
    "df = pd.DataFrame(data, columns=['Rate'], index = range(0,10))\n",
    "df = df.transpose()\n",
    "df.index.name = 'Digit'\n",
    "print(df)"
   ]
  },
  {
   "cell_type": "markdown",
   "id": "0c21c92e",
   "metadata": {},
   "source": [
    "## One-versus-One Classifier\n",
    "### Implementation"
   ]
  },
  {
   "cell_type": "code",
   "execution_count": 364,
   "id": "7a57af4f",
   "metadata": {},
   "outputs": [],
   "source": [
    "# Select the subsets of training data points that have class label i or j\n",
    "def data_selection(X,Y,i,j):\n",
    "    X_ij = []\n",
    "    Y_ij = []\n",
    "    for index, value in enumerate(Y[0]):\n",
    "        if value == i:\n",
    "            Y_ij.append(1)\n",
    "            X_ij.append(X[index])\n",
    "        elif value == j:\n",
    "            Y_ij.append(-1)\n",
    "            X_ij.append(X[index])\n",
    "    return (X_ij, Y_ij)"
   ]
  },
  {
   "cell_type": "code",
   "execution_count": 366,
   "id": "6c59a946",
   "metadata": {},
   "outputs": [],
   "source": [
    "# Training data to get the values of parameters for the pairwise binary classifier of class label i and j\n",
    "def get_parameters_one_versus_one_classifier(X,Y,i,j):\n",
    "    X_ij, Y_ij = data_selection(X,Y,i,j)\n",
    "    X_ij = np.array(X_ij)\n",
    "    Y_ij = np.array(Y_ij)\n",
    "    beta, alpha = binary_classifier_least_square_solution(X_ij, Y_ij)\n",
    "    return (beta, alpha)"
   ]
  },
  {
   "cell_type": "code",
   "execution_count": 376,
   "id": "d92dc40b",
   "metadata": {},
   "outputs": [],
   "source": [
    "# Make predictions of label Y with one-versus-one classifier\n",
    "def one_versus_one_classifier(X):\n",
    "    votes = np.zeros((X.shape[0],10))\n",
    "    predictions = np.zeros(X.shape[0])\n",
    "    for i in range(10):\n",
    "        for j in range((i+1),10):\n",
    "            beta, alpha = get_parameters_one_versus_one_classifier(train_X,train_Y,i,j)\n",
    "            for k in range(X.shape[0]):\n",
    "                prediction = binary_classifier(X[k], beta, alpha)\n",
    "                if prediction == 1:\n",
    "                    votes[k][i] += 1\n",
    "                else:\n",
    "                    votes[k][j] += 1\n",
    "    for i in range(X.shape[0]):\n",
    "        predictions[i] = np.argmax(votes[i])\n",
    "    return predictions"
   ]
  },
  {
   "cell_type": "markdown",
   "id": "460c6bf2",
   "metadata": {},
   "source": [
    "### Evaluation"
   ]
  },
  {
   "cell_type": "code",
   "execution_count": 427,
   "id": "f4afaeab",
   "metadata": {},
   "outputs": [],
   "source": [
    "predictions2 = one_versus_one_classifier(test_X)"
   ]
  },
  {
   "cell_type": "code",
   "execution_count": 428,
   "id": "e75affaa",
   "metadata": {},
   "outputs": [
    {
     "name": "stdout",
     "output_type": "stream",
     "text": [
      "Error Rate: 7.0300%\n"
     ]
    }
   ],
   "source": [
    "# Calculate the error rate of the one-versus-one classifier with the test data\n",
    "err = 0\n",
    "for i in range(predictions2.shape[0]):\n",
    "    if predictions2[i] != test_Y[0][i]:\n",
    "        err = err + 1\n",
    "error_rate = err/len(test_X) * 100\n",
    "print(\"Error Rate: \" + f\"{error_rate:.4f}\" + \"%\")"
   ]
  },
  {
   "cell_type": "code",
   "execution_count": 453,
   "id": "8c6b589b",
   "metadata": {},
   "outputs": [
    {
     "data": {
      "text/plain": [
       "array([[ 961,    0,    9,    9,    2,    7,    6,    1,    7,    6],\n",
       "       [   0, 1120,   18,    1,    4,    5,    5,   16,   17,    5],\n",
       "       [   1,    3,  936,   18,    6,    3,   12,   17,    8,    1],\n",
       "       [   1,    3,   12,  926,    1,   30,    0,    3,   23,   11],\n",
       "       [   0,    1,   10,    2,  931,    8,    5,   11,   10,   30],\n",
       "       [   6,    1,    5,   20,    1,  800,   19,    1,   36,   12],\n",
       "       [   8,    4,   10,    1,    7,   17,  908,    0,   10,    0],\n",
       "       [   3,    1,   10,    7,    4,    2,    1,  955,   10,   21],\n",
       "       [   0,    2,   22,   21,    3,   15,    2,    1,  840,    3],\n",
       "       [   0,    0,    0,    5,   23,    5,    0,   23,   13,  920]])"
      ]
     },
     "execution_count": 453,
     "metadata": {},
     "output_type": "execute_result"
    }
   ],
   "source": [
    "# confusion matrix for one-versus-one classifier\n",
    "one_versus_one_cmatrix = confusion_matrix(predictions2,test_Y[0])\n",
    "one_versus_one_cmatrix"
   ]
  },
  {
   "cell_type": "code",
   "execution_count": 25,
   "id": "5a72b888",
   "metadata": {},
   "outputs": [
    {
     "data": {
      "image/png": "[encoded data removed]",
      "text/plain": [
       "<Figure size 1000x400 with 2 Axes>"
      ]
     },
     "metadata": {},
     "output_type": "display_data"
    }
   ],
   "source": [
    "# https://stackoverflow.com/questions/16492830/colorplot-of-2d-array-matplotlib\n",
    "H = np.array([[ 961,    0,    9,    9,    2,    7,    6,    1,    7,    6],\n",
    "       [   0, 1120,   18,    1,    4,    5,    5,   16,   17,    5],\n",
    "       [   1,    3,  936,   18,    6,    3,   12,   17,    8,    1],\n",
    "       [   1,    3,   12,  926,    1,   30,    0,    3,   23,   11],\n",
    "       [   0,    1,   10,    2,  931,    8,    5,   11,   10,   30],\n",
    "       [   6,    1,    5,   20,    1,  800,   19,    1,   36,   12],\n",
    "       [   8,    4,   10,    1,    7,   17,  908,    0,   10,    0],\n",
    "       [   3,    1,   10,    7,    4,    2,    1,  955,   10,   21],\n",
    "       [   0,    2,   22,   21,    3,   15,    2,    1,  840,    3],\n",
    "       [   0,    0,    0,    5,   23,    5,    0,   23,   13,  920]])  \n",
    "\n",
    "fig, ax = plt.subplots(figsize=(10,4))\n",
    "\n",
    "cax = ax.matshow(H, cmap='viridis')\n",
    "fig.colorbar(cax)\n",
    "\n",
    "ax.set_xlabel('Actual')\n",
    "ax.set_ylabel('Predicted')\n",
    "\n",
    "for (i, j), val in np.ndenumerate(H):\n",
    "    ax.text(j, i, val, ha='center', va='center')\n",
    "\n",
    "plt.show()"
   ]
  },
  {
   "cell_type": "code",
   "execution_count": 454,
   "id": "b907817a",
   "metadata": {},
   "outputs": [
    {
     "data": {
      "text/plain": [
       "array([0.98061224, 0.98678414, 0.90697674, 0.91683168, 0.94806517,\n",
       "       0.89686099, 0.94780793, 0.92898833, 0.862423  , 0.91179386])"
      ]
     },
     "execution_count": 454,
     "metadata": {},
     "output_type": "execute_result"
    }
   ],
   "source": [
    "recall_rate(one_versus_one_cmatrix)"
   ]
  },
  {
   "cell_type": "code",
   "execution_count": 24,
   "id": "1a258beb",
   "metadata": {},
   "outputs": [
    {
     "name": "stdout",
     "output_type": "stream",
     "text": [
      "           0      1      2      3      4      5      6      7      8      9\n",
      "Digit                                                                      \n",
      "Rate   0.981  0.987  0.907  0.917  0.948  0.897  0.948  0.929  0.862  0.912\n"
     ]
    }
   ],
   "source": [
    "data = np.array([0.98061224, 0.98678414, 0.90697674, 0.91683168, 0.94806517,\n",
    "       0.89686099, 0.94780793, 0.92898833, 0.862423  , 0.91179386])\n",
    "\n",
    "data = np.round(data, 3)\n",
    "\n",
    "df = pd.DataFrame(data, columns=['Rate'], index = range(0,10))\n",
    "df = df.transpose()\n",
    "df.index.name = 'Digit'\n",
    "print(df)"
   ]
  },
  {
   "cell_type": "markdown",
   "id": "a922c025",
   "metadata": {},
   "source": [
    "## Designing Randomized Feature maps\n",
    "### Feature map"
   ]
  },
  {
   "cell_type": "code",
   "execution_count": 746,
   "id": "08535abd",
   "metadata": {},
   "outputs": [],
   "source": [
    "# feature map.\n",
    "W = np.random.randn(1000,train_X.shape[1])\n",
    "b = np.random.randn(1000)\n",
    "def feature_map(x):\n",
    "    x_tilda = W @ x.T + b\n",
    "    return x_tilda"
   ]
  },
  {
   "cell_type": "markdown",
   "id": "110bb70c",
   "metadata": {},
   "source": [
    "### Implementation of one-versus-all classfier with identity function"
   ]
  },
  {
   "cell_type": "code",
   "execution_count": 533,
   "id": "2c597080",
   "metadata": {},
   "outputs": [],
   "source": [
    "# identity function\n",
    "def identity(x):\n",
    "    return x"
   ]
  },
  {
   "cell_type": "code",
   "execution_count": 534,
   "id": "728886cf",
   "metadata": {},
   "outputs": [],
   "source": [
    "# feature vector h_x with identity function\n",
    "def feature_vector_identity_classifier(X):\n",
    "    h_x = np.zeros((X.shape[0],1000))\n",
    "    for i in range(X.shape[0]):\n",
    "        h_x[i] = identity(feature_map(X[i]))\n",
    "    return h_x"
   ]
  },
  {
   "cell_type": "code",
   "execution_count": 535,
   "id": "cdae65ca",
   "metadata": {},
   "outputs": [],
   "source": [
    "# transform the training data into the feature vector h_x\n",
    "h_x_identity = feature_vector_identity_classifier(train_X)"
   ]
  },
  {
   "cell_type": "code",
   "execution_count": 569,
   "id": "203c41c9",
   "metadata": {},
   "outputs": [],
   "source": [
    "# find the parameters with the one-versus-all classifier\n",
    "beta_identity, alpha_identity = get_parameters_one_versus_all_classifier(h_x_identity,train_Y,10)"
   ]
  },
  {
   "cell_type": "code",
   "execution_count": 570,
   "id": "290374ff",
   "metadata": {},
   "outputs": [],
   "source": [
    "# Performance on training data\n",
    "predictions_train_identity = np.zeros(h_x_identity.shape[0])\n",
    "for i in range(h_x_identity.shape[0]):\n",
    "    predictions_train_identity[i] = one_versus_all_classifier(h_x_identity[i], beta_identity, alpha_identity, 10)"
   ]
  },
  {
   "cell_type": "code",
   "execution_count": 571,
   "id": "70848721",
   "metadata": {},
   "outputs": [
    {
     "name": "stdout",
     "output_type": "stream",
     "text": [
      "Error Rate: 14.2267%\n",
      "[5 0 4 1 9 2 1 3 1 4] [5 0 4 1 9 2 1 3 1 4]\n"
     ]
    }
   ],
   "source": [
    "# Error rate of the model with identity function on training data\n",
    "err = 0\n",
    "for i in range(predictions_train_identity.shape[0]):\n",
    "    if predictions_train_identity[i] != train_Y[0][i]:\n",
    "        err = err + 1\n",
    "error_rate = err/len(h_x_identity) * 100\n",
    "print(\"Error Rate: \" + f\"{error_rate:.4f}\" + \"%\")\n",
    "print(predictions_train_identity[:10].astype(int),train_Y[0][:10])"
   ]
  },
  {
   "cell_type": "code",
   "execution_count": 572,
   "id": "cb34b44b",
   "metadata": {},
   "outputs": [],
   "source": [
    "# Performance on test data\n",
    "h_x_identity_test = feature_vector_identity_classifier(test_X)\n",
    "predictions_test_identity = np.zeros(h_x_identity_test.shape[0])\n",
    "for i in range(h_x_identity_test.shape[0]):\n",
    "    predictions_test_identity[i] = one_versus_all_classifier(h_x_identity_test[i], beta_identity, alpha_identity, 10)"
   ]
  },
  {
   "cell_type": "code",
   "execution_count": 573,
   "id": "704aac36",
   "metadata": {},
   "outputs": [
    {
     "name": "stdout",
     "output_type": "stream",
     "text": [
      "Error Rate: 13.9700%\n",
      "[7 2 1 0 4 1 4 9 5 9] [7 2 1 0 4 1 4 9 5 9]\n"
     ]
    }
   ],
   "source": [
    "# Error rate of the model with identity function on test data\n",
    "err = 0\n",
    "for i in range(predictions_test_identity.shape[0]):\n",
    "    if predictions_test_identity[i] != test_Y[0][i]:\n",
    "        err = err + 1\n",
    "error_rate = err/len(h_x_identity_test) * 100\n",
    "print(\"Error Rate: \" + f\"{error_rate:.4f}\" + \"%\")\n",
    "print(predictions_test_identity[:10].astype(int),test_Y[0][:10])"
   ]
  },
  {
   "cell_type": "markdown",
   "id": "b1c62754",
   "metadata": {},
   "source": [
    "### Implementation of one-versus-all classfier with sigmoid function"
   ]
  },
  {
   "cell_type": "code",
   "execution_count": 540,
   "id": "570520f2",
   "metadata": {},
   "outputs": [],
   "source": [
    "# sigmoid function\n",
    "def sigmoid(x):\n",
    "    return 1/(1+np.exp(-x))"
   ]
  },
  {
   "cell_type": "code",
   "execution_count": 546,
   "id": "09b542c8",
   "metadata": {},
   "outputs": [],
   "source": [
    "# feature vector h_x with sigmoid function\n",
    "def feature_vector_sigmoid_classifier(X):\n",
    "    h_x = np.zeros((X.shape[0],1000))\n",
    "    for i in range(X.shape[0]):\n",
    "        h_x[i] = sigmoid(feature_map(X[i]))\n",
    "    return h_x"
   ]
  },
  {
   "cell_type": "code",
   "execution_count": 547,
   "id": "d63181b5",
   "metadata": {},
   "outputs": [
    {
     "name": "stderr",
     "output_type": "stream",
     "text": [
      "/var/folders/7k/4tvcxdj56bs1cr_1j9mq4_m80000gp/T/ipykernel_5475/4033946986.py:2: RuntimeWarning: overflow encountered in exp\n",
      "  return 1/(1+np.exp(-x))\n"
     ]
    }
   ],
   "source": [
    "# transform the training data into the feature vector h_x\n",
    "h_x_sigmoid = feature_vector_sigmoid_classifier(train_X)"
   ]
  },
  {
   "cell_type": "code",
   "execution_count": 548,
   "id": "0aea070b",
   "metadata": {},
   "outputs": [],
   "source": [
    "# find the parameters with the one-versus-all classifier\n",
    "beta, alpha = get_parameters_one_versus_all_classifier(h_x_sigmoid,train_Y,10)"
   ]
  },
  {
   "cell_type": "code",
   "execution_count": 549,
   "id": "485525cf",
   "metadata": {},
   "outputs": [],
   "source": [
    "# Performance on training data\n",
    "predictions_train_sigmoid = np.zeros(h_x_sigmoid.shape[0])\n",
    "for i in range(h_x_sigmoid.shape[0]):\n",
    "    predictions_train_sigmoid[i] = one_versus_all_classifier(h_x_sigmoid[i], beta, alpha, 10)"
   ]
  },
  {
   "cell_type": "code",
   "execution_count": 557,
   "id": "774032ff",
   "metadata": {},
   "outputs": [
    {
     "name": "stdout",
     "output_type": "stream",
     "text": [
      "Error Rate: 8.1867%\n",
      "[5 0 4 1 9 2 1 3 1 4] [5 0 4 1 9 2 1 3 1 4]\n"
     ]
    }
   ],
   "source": [
    "# Error rate of the model with identity function on training data\n",
    "err = 0\n",
    "for i in range(predictions_train_sigmoid.shape[0]):\n",
    "    if predictions_train_sigmoid[i] != train_Y[0][i]:\n",
    "        err = err + 1\n",
    "error_rate = err/len(h_x_sigmoid) * 100\n",
    "print(\"Error Rate: \" + f\"{error_rate:.4f}\" + \"%\")\n",
    "print(predictions_train_sigmoid[:10].astype(int),train_Y[0][:10])"
   ]
  },
  {
   "cell_type": "code",
   "execution_count": 561,
   "id": "d2d22c84",
   "metadata": {},
   "outputs": [
    {
     "name": "stderr",
     "output_type": "stream",
     "text": [
      "/var/folders/7k/4tvcxdj56bs1cr_1j9mq4_m80000gp/T/ipykernel_5475/4033946986.py:2: RuntimeWarning: overflow encountered in exp\n",
      "  return 1/(1+np.exp(-x))\n"
     ]
    }
   ],
   "source": [
    "# Performance on test data\n",
    "h_x_sigmoid_test = feature_vector_sigmoid_classifier(test_X)\n",
    "predictions_test_sigmoid = np.zeros(h_x_sigmoid_test.shape[0])\n",
    "for i in range(h_x_sigmoid_test.shape[0]):\n",
    "    predictions_test_sigmoid[i] = one_versus_all_classifier(h_x_sigmoid_test[i], beta, alpha, 10)"
   ]
  },
  {
   "cell_type": "code",
   "execution_count": 563,
   "id": "6777dce5",
   "metadata": {},
   "outputs": [
    {
     "name": "stdout",
     "output_type": "stream",
     "text": [
      "Error Rate: 8.2900%\n",
      "[7 2 1 0 4 1 4 9 5 9] [7 2 1 0 4 1 4 9 5 9]\n"
     ]
    }
   ],
   "source": [
    "# Error rate of the model with sigmoid function on test data\n",
    "err = 0\n",
    "for i in range(predictions_test_sigmoid.shape[0]):\n",
    "    if predictions_test_sigmoid[i] != test_Y[0][i]:\n",
    "        err = err + 1\n",
    "error_rate = err/len(h_x_sigmoid_test) * 100\n",
    "print(\"Error Rate: \" + f\"{error_rate:.4f}\" + \"%\")\n",
    "print(predictions_test_sigmoid[:10].astype(int),test_Y[0][:10])"
   ]
  },
  {
   "cell_type": "markdown",
   "id": "034a8ec7",
   "metadata": {},
   "source": [
    "### Implementation of one-versus-all classfier with sinusoidal function"
   ]
  },
  {
   "cell_type": "code",
   "execution_count": 574,
   "id": "777cdd16",
   "metadata": {},
   "outputs": [],
   "source": [
    "# sinusoidal function\n",
    "def sinusoidal(x):\n",
    "    return math.sin(x)"
   ]
  },
  {
   "cell_type": "code",
   "execution_count": 577,
   "id": "765d33f8",
   "metadata": {},
   "outputs": [],
   "source": [
    "# feature vector h_x with sinusoidal function\n",
    "def feature_vector_sinusoidal_classifier(X):\n",
    "    h_x = np.zeros((X.shape[0],1000))\n",
    "    for i in range(X.shape[0]):\n",
    "        h_x[i] = feature_map(X[i])\n",
    "        for j in range(1000):\n",
    "            h_x[i][j] = sinusoidal(h_x[i][j])\n",
    "    return h_x"
   ]
  },
  {
   "cell_type": "code",
   "execution_count": 578,
   "id": "ca9959f4",
   "metadata": {},
   "outputs": [],
   "source": [
    "# transform the training data into the feature vector h_x\n",
    "h_x_sinusoidal = feature_vector_sinusoidal_classifier(train_X)"
   ]
  },
  {
   "cell_type": "code",
   "execution_count": 579,
   "id": "6b75abd1",
   "metadata": {},
   "outputs": [],
   "source": [
    "# find the parameters with the one-versus-all classifier\n",
    "beta, alpha = get_parameters_one_versus_all_classifier(h_x_sinusoidal,train_Y,10)"
   ]
  },
  {
   "cell_type": "code",
   "execution_count": 580,
   "id": "009df61c",
   "metadata": {},
   "outputs": [],
   "source": [
    "# Performance on training data\n",
    "predictions_train_sinusoidal = np.zeros(h_x_sinusoidal.shape[0])\n",
    "for i in range(h_x_sinusoidal.shape[0]):\n",
    "    predictions_train_sinusoidal[i] = one_versus_all_classifier(h_x_sinusoidal[i], beta, alpha, 10)"
   ]
  },
  {
   "cell_type": "code",
   "execution_count": 581,
   "id": "57e8e9c7",
   "metadata": {},
   "outputs": [
    {
     "name": "stdout",
     "output_type": "stream",
     "text": [
      "Error Rate: 82.2800%\n",
      "[2 0 9 4 2 1 7 5 1 6] [5 0 4 1 9 2 1 3 1 4]\n"
     ]
    }
   ],
   "source": [
    "# Error rate of the model with identity function on training data\n",
    "err = 0\n",
    "for i in range(predictions_train_sinusoidal.shape[0]):\n",
    "    if predictions_train_sinusoidal[i] != train_Y[0][i]:\n",
    "        err = err + 1\n",
    "error_rate = err/len(h_x_sinusoidal) * 100\n",
    "print(\"Error Rate: \" + f\"{error_rate:.4f}\" + \"%\")\n",
    "print(predictions_train_sinusoidal[:10].astype(int),train_Y[0][:10])"
   ]
  },
  {
   "cell_type": "code",
   "execution_count": 583,
   "id": "530b8af7",
   "metadata": {},
   "outputs": [],
   "source": [
    "# Performance on test data\n",
    "h_x_sinusoidal_test = feature_vector_sinusoidal_classifier(test_X)\n",
    "predictions_test_sinusoidal = np.zeros(h_x_sinusoidal_test.shape[0])\n",
    "for i in range(h_x_sinusoidal_test.shape[0]):\n",
    "    predictions_test_sinusoidal[i] = one_versus_all_classifier(h_x_sinusoidal_test[i], beta, alpha, 10)"
   ]
  },
  {
   "cell_type": "code",
   "execution_count": 584,
   "id": "028a3e35",
   "metadata": {},
   "outputs": [
    {
     "name": "stdout",
     "output_type": "stream",
     "text": [
      "Error Rate: 90.1600%\n",
      "[0 3 6 3 7 8 2 7 8 1] [7 2 1 0 4 1 4 9 5 9]\n"
     ]
    }
   ],
   "source": [
    "# Error rate of the model with sinusoidal function on test data\n",
    "err = 0\n",
    "for i in range(predictions_test_sinusoidal.shape[0]):\n",
    "    if predictions_test_sinusoidal[i] != test_Y[0][i]:\n",
    "        err = err + 1\n",
    "error_rate = err/len(h_x_sinusoidal_test) * 100\n",
    "print(\"Error Rate: \" + f\"{error_rate:.4f}\" + \"%\")\n",
    "print(predictions_test_sinusoidal[:10].astype(int),test_Y[0][:10])"
   ]
  },
  {
   "cell_type": "markdown",
   "id": "2ace21f3",
   "metadata": {},
   "source": [
    "### Implementation of one-versus-all classfier with ReLU function"
   ]
  },
  {
   "cell_type": "code",
   "execution_count": 585,
   "id": "1ed4e81e",
   "metadata": {},
   "outputs": [],
   "source": [
    "# ReLU function\n",
    "def relu(x):\n",
    "    if x > 0:\n",
    "        return x\n",
    "    return 0"
   ]
  },
  {
   "cell_type": "code",
   "execution_count": 747,
   "id": "02058c35",
   "metadata": {},
   "outputs": [],
   "source": [
    "# feature vector h_x with ReLU function\n",
    "def feature_vector_relu_classifier(X):\n",
    "    h_x = np.zeros((X.shape[0],1000))\n",
    "    for i in range(X.shape[0]):\n",
    "        h_x[i] = feature_map(X[i])\n",
    "        for j in range(1000):\n",
    "            h_x[i][j] = relu(h_x[i][j])\n",
    "    return h_x"
   ]
  },
  {
   "cell_type": "code",
   "execution_count": 748,
   "id": "82eedc9b",
   "metadata": {},
   "outputs": [],
   "source": [
    "# transform the training data into the feature vector h_x\n",
    "h_x_relu = feature_vector_relu_classifier(train_X)"
   ]
  },
  {
   "cell_type": "code",
   "execution_count": 749,
   "id": "a0ccb057",
   "metadata": {},
   "outputs": [],
   "source": [
    "# find the parameters with the one-versus-all classifier\n",
    "beta, alpha = get_parameters_one_versus_all_classifier(h_x_relu,train_Y,10)"
   ]
  },
  {
   "cell_type": "code",
   "execution_count": 750,
   "id": "c02fd67f",
   "metadata": {},
   "outputs": [],
   "source": [
    "# Performance on training data\n",
    "predictions_train_relu = np.zeros(h_x_relu.shape[0])\n",
    "for i in range(h_x_relu.shape[0]):\n",
    "    predictions_train_relu[i] = one_versus_all_classifier(h_x_relu[i], beta, alpha, 10)"
   ]
  },
  {
   "cell_type": "code",
   "execution_count": 751,
   "id": "5b8e06e6",
   "metadata": {},
   "outputs": [
    {
     "name": "stdout",
     "output_type": "stream",
     "text": [
      "Error Rate: 5.4233%\n",
      "[5 0 4 1 9 2 1 3 1 4] [5 0 4 1 9 2 1 3 1 4]\n"
     ]
    }
   ],
   "source": [
    "# Error rate of the model with identity function on training data\n",
    "err = 0\n",
    "for i in range(predictions_train_relu.shape[0]):\n",
    "    if predictions_train_relu[i] != train_Y[0][i]:\n",
    "        err = err + 1\n",
    "error_rate = err/len(h_x_relu) * 100\n",
    "print(\"Error Rate: \" + f\"{error_rate:.4f}\" + \"%\")\n",
    "print(predictions_train_relu[:10].astype(int),train_Y[0][:10])"
   ]
  },
  {
   "cell_type": "code",
   "execution_count": 752,
   "id": "72d85610",
   "metadata": {},
   "outputs": [],
   "source": [
    "# Performance on test data\n",
    "h_x_relu_test = feature_vector_relu_classifier(test_X)\n",
    "predictions_test_relu = np.zeros(h_x_relu_test.shape[0])\n",
    "for i in range(h_x_relu_test.shape[0]):\n",
    "    predictions_test_relu[i] = one_versus_all_classifier(h_x_relu_test[i], beta, alpha, 10)"
   ]
  },
  {
   "cell_type": "code",
   "execution_count": 753,
   "id": "155b2f37",
   "metadata": {},
   "outputs": [
    {
     "name": "stdout",
     "output_type": "stream",
     "text": [
      "Error Rate: 5.4233%\n",
      "[7 2 1 0 4 1 4 9 6 9] [7 2 1 0 4 1 4 9 5 9]\n"
     ]
    }
   ],
   "source": [
    "# Error rate of the model with ReLU function on test data\n",
    "err = 0\n",
    "for i in range(predictions_test_relu.shape[0]):\n",
    "    if predictions_test_relu[i] != test_Y[0][i]:\n",
    "        err = err + 1\n",
    "error_rate_1000 = err/len(h_x_relu_test) * 100\n",
    "print(\"Error Rate: \" + f\"{error_rate:.4f}\" + \"%\")\n",
    "print(predictions_test_relu[:10].astype(int),test_Y[0][:10])"
   ]
  },
  {
   "cell_type": "markdown",
   "id": "e4a8a912",
   "metadata": {},
   "source": [
    "### Vary the number of feature L"
   ]
  },
  {
   "cell_type": "code",
   "execution_count": 682,
   "id": "8349a806",
   "metadata": {},
   "outputs": [],
   "source": [
    "# transform the data X into L feature vectors with randomized parameters W and b\n",
    "def feature_vector_relu_classifier(X, L):\n",
    "    W = np.random.randn(L,train_X.shape[1])\n",
    "    b = np.random.randn(L)\n",
    "    h_x = np.zeros((X.shape[0],L))\n",
    "    for i in range(X.shape[0]):\n",
    "        h_x[i] = W @ X[i].T + b\n",
    "        for j in range(L):\n",
    "            h_x[i][j] = relu(h_x[i][j])\n",
    "    return h_x,W,b"
   ]
  },
  {
   "cell_type": "code",
   "execution_count": 683,
   "id": "4f50a4d2",
   "metadata": {},
   "outputs": [],
   "source": [
    "# transform the test data X into L feature vectors with the corresponding parameters W and b\n",
    "def feature_vector_relu_test(X,W,b,L):\n",
    "    h_x = np.zeros((X.shape[0],L))\n",
    "    for i in range(X.shape[0]):\n",
    "        h_x[i] = W @ X[i].T + b\n",
    "        for j in range(L):\n",
    "            h_x[i][j] = relu(h_x[i][j])\n",
    "    return h_x"
   ]
  },
  {
   "cell_type": "markdown",
   "id": "c5ff0256",
   "metadata": {},
   "source": [
    "#### Feature mapping with L = 250"
   ]
  },
  {
   "cell_type": "code",
   "execution_count": 717,
   "id": "7b5d8a4a",
   "metadata": {},
   "outputs": [],
   "source": [
    "# transform the training data into 250 feature vector h_x\n",
    "h_x_relu_250,W,b = feature_vector_relu_classifier(train_X,250)"
   ]
  },
  {
   "cell_type": "code",
   "execution_count": 718,
   "id": "0aefdfb9",
   "metadata": {},
   "outputs": [],
   "source": [
    "# find the parameters with the one versus all classifer\n",
    "beta, alpha = get_parameters_one_versus_all_classifier(h_x_relu_250,train_Y,10)"
   ]
  },
  {
   "cell_type": "code",
   "execution_count": 719,
   "id": "53c0c8be",
   "metadata": {},
   "outputs": [],
   "source": [
    "# Performance on training data\n",
    "predictions_train_relu_250 = np.zeros(h_x_relu.shape[0])\n",
    "for i in range(h_x_relu_250.shape[0]):\n",
    "    predictions_train_relu_250[i] = one_versus_all_classifier(h_x_relu_250[i], beta, alpha, 10)"
   ]
  },
  {
   "cell_type": "code",
   "execution_count": 721,
   "id": "ff25f4e5",
   "metadata": {},
   "outputs": [
    {
     "name": "stdout",
     "output_type": "stream",
     "text": [
      "Error Rate: 11.5983%\n",
      "[5 0 4 1 9 2 1 3 1 4] [5 0 4 1 9 2 1 3 1 4]\n"
     ]
    }
   ],
   "source": [
    "# Error rate of the model with 250 features on training data\n",
    "err = 0\n",
    "for i in range(predictions_train_relu_250.shape[0]):\n",
    "    if predictions_train_relu_250[i] != train_Y[0][i]:\n",
    "        err = err + 1\n",
    "error_rate = err/len(h_x_relu_250) * 100\n",
    "print(\"Error Rate: \" + f\"{error_rate:.4f}\" + \"%\")\n",
    "print(predictions_train_relu_250[:10].astype(int),train_Y[0][:10])"
   ]
  },
  {
   "cell_type": "code",
   "execution_count": 722,
   "id": "44a88562",
   "metadata": {},
   "outputs": [],
   "source": [
    "# Performance on test data transformed into feature vactors\n",
    "h_x_relu_test_250 = feature_vector_relu_test(test_X,W,b,250)\n",
    "predictions_test_relu_250 = np.zeros(h_x_relu_test_250.shape[0])\n",
    "for i in range(h_x_relu_test_250.shape[0]):\n",
    "    predictions_test_relu_250[i] = one_versus_all_classifier(h_x_relu_test_250[i], beta, alpha, 10)"
   ]
  },
  {
   "cell_type": "code",
   "execution_count": 723,
   "id": "98243cbd",
   "metadata": {},
   "outputs": [
    {
     "name": "stdout",
     "output_type": "stream",
     "text": [
      "Error Rate: 11.5983%\n",
      "[7 2 1 0 4 1 4 9 4 9] [7 2 1 0 4 1 4 9 5 9]\n"
     ]
    }
   ],
   "source": [
    "# Error rate of the model with 250 features on test data\n",
    "err = 0\n",
    "for i in range(predictions_test_relu_250.shape[0]):\n",
    "    if predictions_test_relu_250[i] != test_Y[0][i]:\n",
    "        err = err + 1\n",
    "error_rate_250 = err/len(h_x_relu_test_250) * 100\n",
    "print(\"Error Rate: \" + f\"{error_rate:.4f}\" + \"%\")\n",
    "print(predictions_test_relu_250[:10].astype(int),test_Y[0][:10])"
   ]
  },
  {
   "cell_type": "markdown",
   "id": "5855b972",
   "metadata": {},
   "source": [
    "#### Feature mapping with L = 500"
   ]
  },
  {
   "cell_type": "code",
   "execution_count": 724,
   "id": "4009ae2e",
   "metadata": {},
   "outputs": [],
   "source": [
    "# transform the training data into 500 feature vector h_x\n",
    "h_x_relu_500,W_500,b_500 = feature_vector_relu_classifier(train_X,500)"
   ]
  },
  {
   "cell_type": "code",
   "execution_count": 725,
   "id": "448a1a51",
   "metadata": {},
   "outputs": [],
   "source": [
    "# find the parameters with the one versus all classifer\n",
    "beta, alpha = get_parameters_one_versus_all_classifier(h_x_relu_500,train_Y,10)"
   ]
  },
  {
   "cell_type": "code",
   "execution_count": 726,
   "id": "f582c5ed",
   "metadata": {},
   "outputs": [],
   "source": [
    "# Performance on training data\n",
    "predictions_train_relu_500 = np.zeros(h_x_relu.shape[0])\n",
    "for i in range(h_x_relu_500.shape[0]):\n",
    "    predictions_train_relu_500[i] = one_versus_all_classifier(h_x_relu_500[i], beta, alpha, 10)"
   ]
  },
  {
   "cell_type": "code",
   "execution_count": 727,
   "id": "b3c8f781",
   "metadata": {},
   "outputs": [
    {
     "name": "stdout",
     "output_type": "stream",
     "text": [
      "Error Rate: 8.0917%\n",
      "[5 0 4 1 9 2 1 3 1 4] [5 0 4 1 9 2 1 3 1 4]\n"
     ]
    }
   ],
   "source": [
    "# Error rate of the model with 500 features on training data\n",
    "err = 0\n",
    "for i in range(predictions_train_relu_500.shape[0]):\n",
    "    if predictions_train_relu_500[i] != train_Y[0][i]:\n",
    "        err = err + 1\n",
    "error_rate = err/len(h_x_relu_500) * 100\n",
    "print(\"Error Rate: \" + f\"{error_rate:.4f}\" + \"%\")\n",
    "print(predictions_train_relu_500[:10].astype(int),train_Y[0][:10])"
   ]
  },
  {
   "cell_type": "code",
   "execution_count": 728,
   "id": "2e0a075e",
   "metadata": {},
   "outputs": [],
   "source": [
    "# Performance on test data transformed into feature vactors\n",
    "h_x_relu_test_500 = feature_vector_relu_test(test_X,W_500,b_500,500)\n",
    "predictions_test_relu_500 = np.zeros(h_x_relu_test_500.shape[0])\n",
    "for i in range(h_x_relu_test_500.shape[0]):\n",
    "    predictions_test_relu_500[i] = one_versus_all_classifier(h_x_relu_test_500[i], beta, alpha, 10)"
   ]
  },
  {
   "cell_type": "code",
   "execution_count": 729,
   "id": "d2ce209a",
   "metadata": {},
   "outputs": [
    {
     "name": "stdout",
     "output_type": "stream",
     "text": [
      "Error Rate: 8.0917%\n",
      "[7 2 1 0 4 1 4 9 5 9] [7 2 1 0 4 1 4 9 5 9]\n"
     ]
    }
   ],
   "source": [
    "# Error rate of the model with 500 features on test data\n",
    "err = 0\n",
    "for i in range(predictions_test_relu_500.shape[0]):\n",
    "    if predictions_test_relu_500[i] != test_Y[0][i]:\n",
    "        err = err + 1\n",
    "error_rate_500 = err/len(h_x_relu_test_500) * 100\n",
    "print(\"Error Rate: \" + f\"{error_rate:.4f}\" + \"%\")\n",
    "print(predictions_test_relu_500[:10].astype(int),test_Y[0][:10])"
   ]
  },
  {
   "cell_type": "markdown",
   "id": "62fbe7ad",
   "metadata": {},
   "source": [
    "#### Feature mapping with L = 1500"
   ]
  },
  {
   "cell_type": "code",
   "execution_count": 730,
   "id": "a44b28c1",
   "metadata": {},
   "outputs": [],
   "source": [
    "# transform the training data into 1500 feature vector h_x\n",
    "h_x_relu_1500,W_1500,b_1500 = feature_vector_relu_classifier(train_X,1500)"
   ]
  },
  {
   "cell_type": "code",
   "execution_count": 731,
   "id": "8666ff84",
   "metadata": {},
   "outputs": [],
   "source": [
    "# find the parameters with the one versus all classifer\n",
    "beta, alpha = get_parameters_one_versus_all_classifier(h_x_relu_1500,train_Y,10)"
   ]
  },
  {
   "cell_type": "code",
   "execution_count": 732,
   "id": "0a1f4918",
   "metadata": {},
   "outputs": [],
   "source": [
    "# Performance on training data\n",
    "predictions_train_relu_1500 = np.zeros(h_x_relu.shape[0])\n",
    "for i in range(h_x_relu_1500.shape[0]):\n",
    "    predictions_train_relu_1500[i] = one_versus_all_classifier(h_x_relu_1500[i], beta, alpha, 10)"
   ]
  },
  {
   "cell_type": "code",
   "execution_count": 733,
   "id": "41a80f6e",
   "metadata": {},
   "outputs": [
    {
     "name": "stdout",
     "output_type": "stream",
     "text": [
      "Error Rate: 4.2950%\n",
      "[5 0 4 1 9 2 1 3 1 4] [5 0 4 1 9 2 1 3 1 4]\n"
     ]
    }
   ],
   "source": [
    "# Error rate of the model with 1500 features on training data\n",
    "err = 0\n",
    "for i in range(predictions_train_relu_1500.shape[0]):\n",
    "    if predictions_train_relu_1500[i] != train_Y[0][i]:\n",
    "        err = err + 1\n",
    "error_rate = err/len(h_x_relu_1500) * 100\n",
    "print(\"Error Rate: \" + f\"{error_rate:.4f}\" + \"%\")\n",
    "print(predictions_train_relu_1500[:10].astype(int),train_Y[0][:10])"
   ]
  },
  {
   "cell_type": "code",
   "execution_count": 734,
   "id": "41048fc4",
   "metadata": {},
   "outputs": [],
   "source": [
    "# Performance on test data transformed into feature vactors\n",
    "h_x_relu_test_1500 = feature_vector_relu_test(test_X,W_1500,b_1500,1500)\n",
    "predictions_test_relu_1500 = np.zeros(h_x_relu_test_1500.shape[0])\n",
    "for i in range(h_x_relu_test_1500.shape[0]):\n",
    "    predictions_test_relu_1500[i] = one_versus_all_classifier(h_x_relu_test_1500[i], beta, alpha, 10)"
   ]
  },
  {
   "cell_type": "code",
   "execution_count": 735,
   "id": "27ff00c5",
   "metadata": {},
   "outputs": [
    {
     "name": "stdout",
     "output_type": "stream",
     "text": [
      "Error Rate: 4.2950%\n",
      "[7 2 1 0 4 1 4 9 5 9] [7 2 1 0 4 1 4 9 5 9]\n"
     ]
    }
   ],
   "source": [
    "# Error rate of the model with 1500 features on test data\n",
    "err = 0\n",
    "for i in range(predictions_test_relu_1500.shape[0]):\n",
    "    if predictions_test_relu_1500[i] != test_Y[0][i]:\n",
    "        err = err + 1\n",
    "error_rate_1500 = err/len(h_x_relu_test_1500) * 100\n",
    "print(\"Error Rate: \" + f\"{error_rate:.4f}\" + \"%\")\n",
    "print(predictions_test_relu_1500[:10].astype(int),test_Y[0][:10])"
   ]
  },
  {
   "cell_type": "markdown",
   "id": "d631fa75",
   "metadata": {},
   "source": [
    "#### Feature mapping with L = 2000"
   ]
  },
  {
   "cell_type": "code",
   "execution_count": 736,
   "id": "2f62cf95",
   "metadata": {},
   "outputs": [],
   "source": [
    "# transform the training data into 2000 feature vector h_x\n",
    "h_x_relu_2000,W_2000,b_2000 = feature_vector_relu_classifier(train_X,2000)"
   ]
  },
  {
   "cell_type": "code",
   "execution_count": 737,
   "id": "7adf7e83",
   "metadata": {},
   "outputs": [],
   "source": [
    "# find the parameters with the one versus all classifer\n",
    "beta, alpha = get_parameters_one_versus_all_classifier(h_x_relu_2000,train_Y,10)"
   ]
  },
  {
   "cell_type": "code",
   "execution_count": 738,
   "id": "a5f09f15",
   "metadata": {},
   "outputs": [],
   "source": [
    "# Performance on training data\n",
    "predictions_train_relu_2000 = np.zeros(h_x_relu.shape[0])\n",
    "for i in range(h_x_relu_2000.shape[0]):\n",
    "    predictions_train_relu_2000[i] = one_versus_all_classifier(h_x_relu_2000[i], beta, alpha, 10)"
   ]
  },
  {
   "cell_type": "code",
   "execution_count": 739,
   "id": "9300498d",
   "metadata": {},
   "outputs": [
    {
     "name": "stdout",
     "output_type": "stream",
     "text": [
      "Error Rate: 3.5133%\n",
      "[5 0 4 1 9 2 1 3 1 4] [5 0 4 1 9 2 1 3 1 4]\n"
     ]
    }
   ],
   "source": [
    "# Error rate of the model with 2000 features on training data\n",
    "err = 0\n",
    "for i in range(predictions_train_relu_2000.shape[0]):\n",
    "    if predictions_train_relu_2000[i] != train_Y[0][i]:\n",
    "        err = err + 1\n",
    "error_rate = err/len(h_x_relu_2000) * 100\n",
    "print(\"Error Rate: \" + f\"{error_rate:.4f}\" + \"%\")\n",
    "print(predictions_train_relu_2000[:10].astype(int),train_Y[0][:10])"
   ]
  },
  {
   "cell_type": "code",
   "execution_count": 740,
   "id": "fcb0d068",
   "metadata": {},
   "outputs": [],
   "source": [
    "# Performance on test data transformed into feature vactors\n",
    "h_x_relu_test_2000 = feature_vector_relu_test(test_X,W_2000,b_2000,2000)\n",
    "predictions_test_relu_2000 = np.zeros(h_x_relu_test_2000.shape[0])\n",
    "for i in range(h_x_relu_test_2000.shape[0]):\n",
    "    predictions_test_relu_2000[i] = one_versus_all_classifier(h_x_relu_test_2000[i], beta, alpha, 10)"
   ]
  },
  {
   "cell_type": "code",
   "execution_count": 741,
   "id": "7864aea9",
   "metadata": {},
   "outputs": [
    {
     "name": "stdout",
     "output_type": "stream",
     "text": [
      "Error Rate: 3.5133%\n",
      "[7 2 1 0 4 1 4 9 5 9] [7 2 1 0 4 1 4 9 5 9]\n"
     ]
    }
   ],
   "source": [
    "# Error rate of the model with 2000 features on test data\n",
    "err = 0\n",
    "for i in range(predictions_test_relu_2000.shape[0]):\n",
    "    if predictions_test_relu_2000[i] != test_Y[0][i]:\n",
    "        err = err + 1\n",
    "error_rate_2000 = err/len(h_x_relu_test_2000) * 100\n",
    "print(\"Error Rate: \" + f\"{error_rate:.4f}\" + \"%\")\n",
    "print(predictions_test_relu_2000[:10].astype(int),test_Y[0][:10])"
   ]
  },
  {
   "cell_type": "markdown",
   "id": "dbd9223f",
   "metadata": {},
   "source": [
    "#### Plot of error rate v. number of features"
   ]
  },
  {
   "cell_type": "code",
   "execution_count": 758,
   "id": "60547979",
   "metadata": {},
   "outputs": [],
   "source": [
    "# use the logarithmic function to fit the curve\n",
    "def fit_function(x, a, b):\n",
    "    return a * np.log(x) + b"
   ]
  },
  {
   "cell_type": "code",
   "execution_count": 789,
   "id": "4c4909cf",
   "metadata": {},
   "outputs": [
    {
     "data": {
      "image/png": "[encoded data removed]",
      "text/plain": [
       "<Figure size 640x480 with 1 Axes>"
      ]
     },
     "metadata": {},
     "output_type": "display_data"
    }
   ],
   "source": [
    "# data list\n",
    "# independent variable: the number of features L, dependent variable: error rate\n",
    "L = [250,500,1000,1500,2000]\n",
    "error_rate = [error_rate_250,error_rate_500,error_rate_1000,error_rate_1500,error_rate_2000]\n",
    "\n",
    "# the scatter plot of error rate v. the number of features L with the fitting curve\n",
    "# https://stats.stackexchange.com/questions/190107/curve-fit-with-logarithmic-regression-in-python\n",
    "def func(x, p1,p2):\n",
    "  return p1*np.log(x)+p2\n",
    "\n",
    "popt, pcov = scipy.optimize.curve_fit(func, L, error_rate,p0=(1.0,1.0))\n",
    "\n",
    "p1 = popt[0]\n",
    "p2 = popt[1]\n",
    "\n",
    "curvex=np.linspace(100,2200,1000)\n",
    "curvey=func(curvex,p1,p2)\n",
    "plt.plot(curvex,curvey,'b', linewidth=1)\n",
    "\n",
    "plt.scatter(L,error_rate)\n",
    "plt.xlabel(\"Number of Features (L)\")\n",
    "plt.ylabel(\"Error Rate\")\n",
    "\n",
    "plt.show()"
   ]
  },
  {
   "cell_type": "code",
   "execution_count": null,
   "id": "e07249e5",
   "metadata": {},
   "outputs": [],
   "source": []
  }
 ],
 "metadata": {
  "kernelspec": {
   "display_name": "Python 3 (ipykernel)",
   "language": "python",
   "name": "python3"
  },
  "language_info": {
   "codemirror_mode": {
    "name": "ipython",
    "version": 3
   },
   "file_extension": ".py",
   "mimetype": "text/x-python",
   "name": "python",
   "nbconvert_exporter": "python",
   "pygments_lexer": "ipython3",
   "version": "3.9.18"
  }
 },
 "nbformat": 4,
 "nbformat_minor": 5
}
